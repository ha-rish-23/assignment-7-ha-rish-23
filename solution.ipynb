{
 "cells": [
  {
   "cell_type": "code",
   "execution_count": 9,
   "id": "d4cc9810",
   "metadata": {},
   "outputs": [
    {
     "name": "stdout",
     "output_type": "stream",
     "text": [
      "Requirement already satisfied: ucimlrepo in /home/harish23/dal-projects/venvfordal/lib/python3.12/site-packages (0.0.7)\n",
      "Requirement already satisfied: pandas>=1.0.0 in /home/harish23/dal-projects/venvfordal/lib/python3.12/site-packages (from ucimlrepo) (2.3.3)\n",
      "Requirement already satisfied: certifi>=2020.12.5 in /home/harish23/dal-projects/venvfordal/lib/python3.12/site-packages (from ucimlrepo) (2025.10.5)\n",
      "Requirement already satisfied: numpy>=1.26.0 in /home/harish23/dal-projects/venvfordal/lib/python3.12/site-packages (from pandas>=1.0.0->ucimlrepo) (2.3.3)\n",
      "Requirement already satisfied: python-dateutil>=2.8.2 in /home/harish23/dal-projects/venvfordal/lib/python3.12/site-packages (from pandas>=1.0.0->ucimlrepo) (2.9.0.post0)\n",
      "Requirement already satisfied: pytz>=2020.1 in /home/harish23/dal-projects/venvfordal/lib/python3.12/site-packages (from pandas>=1.0.0->ucimlrepo) (2025.2)\n",
      "Requirement already satisfied: tzdata>=2022.7 in /home/harish23/dal-projects/venvfordal/lib/python3.12/site-packages (from pandas>=1.0.0->ucimlrepo) (2025.2)\n",
      "Requirement already satisfied: six>=1.5 in /home/harish23/dal-projects/venvfordal/lib/python3.12/site-packages (from python-dateutil>=2.8.2->pandas>=1.0.0->ucimlrepo) (1.17.0)\n",
      "Note: you may need to restart the kernel to use updated packages.\n"
     ]
    }
   ],
   "source": [
    "# Install required package if not already installed\n",
    "%pip install ucimlrepo"
   ]
  },
  {
   "cell_type": "markdown",
   "id": "45585891",
   "metadata": {},
   "source": [
    "# A7: Multi-Class Model Selection using ROC and Precision-Recall Curves"
   ]
  },
  {
   "cell_type": "markdown",
   "id": "5aae32c9",
   "metadata": {},
   "source": [
    "### Importing Data directly from UCIML repo"
   ]
  },
  {
   "cell_type": "code",
   "execution_count": 5,
   "id": "99a39cdc",
   "metadata": {},
   "outputs": [],
   "source": [
    "# Import necessary libraries\n",
    "import pandas as pd\n",
    "import numpy as np\n",
    "import matplotlib.pyplot as plt\n",
    "import seaborn as sns\n",
    "from sklearn.model_selection import train_test_split\n",
    "from sklearn.preprocessing import StandardScaler, LabelEncoder\n",
    "from sklearn.metrics import (classification_report, confusion_matrix, \n",
    "                            roc_curve, auc, precision_recall_curve, \n",
    "                            average_precision_score)\n",
    "from sklearn.multiclass import OneVsRestClassifier\n",
    "import warnings\n",
    "warnings.filterwarnings('ignore')"
   ]
  },
  {
   "cell_type": "code",
   "execution_count": 6,
   "id": "186a708c",
   "metadata": {},
   "outputs": [],
   "source": [
    "from ucimlrepo import fetch_ucirepo \n",
    "  \n",
    "# fetch dataset \n",
    "statlog_landsat_satellite = fetch_ucirepo(id=146) \n",
    "  \n",
    "# data (as pandas dataframes) \n",
    "X = statlog_landsat_satellite.data.features \n",
    "y = statlog_landsat_satellite.data.targets "
   ]
  },
  {
   "cell_type": "code",
   "execution_count": 7,
   "id": "57f1d67d",
   "metadata": {},
   "outputs": [
    {
     "name": "stdout",
     "output_type": "stream",
     "text": [
      "Features shape: (6435, 36)\n",
      "Target shape: (6435, 1)\n",
      "\n",
      "Features info:\n",
      "<class 'pandas.core.frame.DataFrame'>\n",
      "RangeIndex: 6435 entries, 0 to 6434\n",
      "Data columns (total 36 columns):\n",
      " #   Column       Non-Null Count  Dtype\n",
      "---  ------       --------------  -----\n",
      " 0   Attribute1   6435 non-null   int64\n",
      " 1   Attribute2   6435 non-null   int64\n",
      " 2   Attribute3   6435 non-null   int64\n",
      " 3   Attribute4   6435 non-null   int64\n",
      " 4   Attribute5   6435 non-null   int64\n",
      " 5   Attribute6   6435 non-null   int64\n",
      " 6   Attribute7   6435 non-null   int64\n",
      " 7   Attribute8   6435 non-null   int64\n",
      " 8   Attribute9   6435 non-null   int64\n",
      " 9   Attribute10  6435 non-null   int64\n",
      " 10  Attribute11  6435 non-null   int64\n",
      " 11  Attribute12  6435 non-null   int64\n",
      " 12  Attribute13  6435 non-null   int64\n",
      " 13  Attribute14  6435 non-null   int64\n",
      " 14  Attribute15  6435 non-null   int64\n",
      " 15  Attribute16  6435 non-null   int64\n",
      " 16  Attribute17  6435 non-null   int64\n",
      " 17  Attribute18  6435 non-null   int64\n",
      " 18  Attribute19  6435 non-null   int64\n",
      " 19  Attribute20  6435 non-null   int64\n",
      " 20  Attribute21  6435 non-null   int64\n",
      " 21  Attribute22  6435 non-null   int64\n",
      " 22  Attribute23  6435 non-null   int64\n",
      " 23  Attribute24  6435 non-null   int64\n",
      " 24  Attribute25  6435 non-null   int64\n",
      " 25  Attribute26  6435 non-null   int64\n",
      " 26  Attribute27  6435 non-null   int64\n",
      " 27  Attribute28  6435 non-null   int64\n",
      " 28  Attribute29  6435 non-null   int64\n",
      " 29  Attribute30  6435 non-null   int64\n",
      " 30  Attribute31  6435 non-null   int64\n",
      " 31  Attribute32  6435 non-null   int64\n",
      " 32  Attribute33  6435 non-null   int64\n",
      " 33  Attribute34  6435 non-null   int64\n",
      " 34  Attribute35  6435 non-null   int64\n",
      " 35  Attribute36  6435 non-null   int64\n",
      "dtypes: int64(36)\n",
      "memory usage: 1.8 MB\n",
      "\n",
      "Target distribution:\n",
      "class\n",
      "1        1533\n",
      "7        1508\n",
      "3        1358\n",
      "5         707\n",
      "2         703\n",
      "4         626\n",
      "Name: count, dtype: int64\n"
     ]
    }
   ],
   "source": [
    "# Display dataset information\n",
    "print(\"Features shape:\", X.shape)\n",
    "print(\"Target shape:\", y.shape)\n",
    "print(\"\\nFeatures info:\")\n",
    "X.info()\n",
    "print(\"\\nTarget distribution:\")\n",
    "print(y.value_counts())"
   ]
  },
  {
   "cell_type": "markdown",
   "id": "3184cc35",
   "metadata": {},
   "source": [
    "## PART-A: Data Preparation and Baseline "
   ]
  },
  {
   "cell_type": "code",
   "execution_count": null,
   "id": "b8cce8d8",
   "metadata": {},
   "outputs": [],
   "source": []
  }
 ],
 "metadata": {
  "kernelspec": {
   "display_name": "venvfordal",
   "language": "python",
   "name": "python3"
  },
  "language_info": {
   "codemirror_mode": {
    "name": "ipython",
    "version": 3
   },
   "file_extension": ".py",
   "mimetype": "text/x-python",
   "name": "python",
   "nbconvert_exporter": "python",
   "pygments_lexer": "ipython3",
   "version": "3.12.3"
  }
 },
 "nbformat": 4,
 "nbformat_minor": 5
}
